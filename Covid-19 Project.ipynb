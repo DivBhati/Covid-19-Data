{
 "cells": [
  {
   "cell_type": "code",
   "execution_count": 1,
   "id": "5d97513a",
   "metadata": {},
   "outputs": [],
   "source": [
    "# Data collected from \"https://covid19.who.int/WHO-COVID-19-global-data.csv\"\n",
    "# pip install matplot\n",
    "# pip install pandas\n",
    "# pip install numpy"
   ]
  },
  {
   "cell_type": "code",
   "execution_count": 2,
   "id": "8dd18669",
   "metadata": {},
   "outputs": [],
   "source": [
    "import os\n",
    "import urllib\n",
    "import matplotlib.pyplot as Mat\n",
    "import pandas as pd\n",
    "import numpy as np\n",
    "import mysql.connector as MySQL"
   ]
  },
  {
   "cell_type": "code",
   "execution_count": 3,
   "id": "eb6c45f5",
   "metadata": {},
   "outputs": [],
   "source": [
    "Data = MySQL.connect(\n",
    "  host=\"localhost\",\n",
    "  user=\"root\",\n",
    "  password=\"12345678\",\n",
    "  database=\"divyansh\"\n",
    ")"
   ]
  },
  {
   "cell_type": "code",
   "execution_count": 4,
   "id": "15f1d629",
   "metadata": {},
   "outputs": [],
   "source": [
    "url = \"https://covid19.who.int/WHO-COVID-19-global-data.csv\"\n",
    "file_path = os.path.join(\"data\",\"covid\")"
   ]
  },
  {
   "cell_type": "code",
   "execution_count": 5,
   "id": "6f8084c9",
   "metadata": {},
   "outputs": [
    {
     "data": {
      "text/plain": [
       "('data\\\\covid\\\\WHO-COVID-19-Data.csv',\n",
       " <http.client.HTTPMessage at 0x29ab8d493d0>)"
      ]
     },
     "execution_count": 5,
     "metadata": {},
     "output_type": "execute_result"
    }
   ],
   "source": [
    "os.makedirs(file_path, exist_ok=True)\n",
    "csv_path = os.path.join(file_path,\"WHO-COVID-19-Data.csv\")\n",
    "urllib.request.urlretrieve(url, csv_path)"
   ]
  },
  {
   "cell_type": "code",
   "execution_count": 6,
   "id": "e47037a9",
   "metadata": {},
   "outputs": [],
   "source": [
    "DataF = pd.read_csv(csv_path)"
   ]
  },
  {
   "cell_type": "code",
   "execution_count": 7,
   "id": "22c664bb",
   "metadata": {},
   "outputs": [
    {
     "data": {
      "text/html": [
       "<div>\n",
       "<style scoped>\n",
       "    .dataframe tbody tr th:only-of-type {\n",
       "        vertical-align: middle;\n",
       "    }\n",
       "\n",
       "    .dataframe tbody tr th {\n",
       "        vertical-align: top;\n",
       "    }\n",
       "\n",
       "    .dataframe thead th {\n",
       "        text-align: right;\n",
       "    }\n",
       "</style>\n",
       "<table border=\"1\" class=\"dataframe\">\n",
       "  <thead>\n",
       "    <tr style=\"text-align: right;\">\n",
       "      <th></th>\n",
       "      <th>Date_reported</th>\n",
       "      <th>Country_code</th>\n",
       "      <th>Country</th>\n",
       "      <th>WHO_region</th>\n",
       "      <th>New_cases</th>\n",
       "      <th>Cumulative_cases</th>\n",
       "      <th>New_deaths</th>\n",
       "      <th>Cumulative_deaths</th>\n",
       "    </tr>\n",
       "  </thead>\n",
       "  <tbody>\n",
       "    <tr>\n",
       "      <th>0</th>\n",
       "      <td>2020-01-03</td>\n",
       "      <td>AF</td>\n",
       "      <td>Afghanistan</td>\n",
       "      <td>EMRO</td>\n",
       "      <td>0</td>\n",
       "      <td>0</td>\n",
       "      <td>0</td>\n",
       "      <td>0</td>\n",
       "    </tr>\n",
       "    <tr>\n",
       "      <th>1</th>\n",
       "      <td>2020-01-04</td>\n",
       "      <td>AF</td>\n",
       "      <td>Afghanistan</td>\n",
       "      <td>EMRO</td>\n",
       "      <td>0</td>\n",
       "      <td>0</td>\n",
       "      <td>0</td>\n",
       "      <td>0</td>\n",
       "    </tr>\n",
       "    <tr>\n",
       "      <th>2</th>\n",
       "      <td>2020-01-05</td>\n",
       "      <td>AF</td>\n",
       "      <td>Afghanistan</td>\n",
       "      <td>EMRO</td>\n",
       "      <td>0</td>\n",
       "      <td>0</td>\n",
       "      <td>0</td>\n",
       "      <td>0</td>\n",
       "    </tr>\n",
       "    <tr>\n",
       "      <th>3</th>\n",
       "      <td>2020-01-06</td>\n",
       "      <td>AF</td>\n",
       "      <td>Afghanistan</td>\n",
       "      <td>EMRO</td>\n",
       "      <td>0</td>\n",
       "      <td>0</td>\n",
       "      <td>0</td>\n",
       "      <td>0</td>\n",
       "    </tr>\n",
       "    <tr>\n",
       "      <th>4</th>\n",
       "      <td>2020-01-07</td>\n",
       "      <td>AF</td>\n",
       "      <td>Afghanistan</td>\n",
       "      <td>EMRO</td>\n",
       "      <td>0</td>\n",
       "      <td>0</td>\n",
       "      <td>0</td>\n",
       "      <td>0</td>\n",
       "    </tr>\n",
       "    <tr>\n",
       "      <th>...</th>\n",
       "      <td>...</td>\n",
       "      <td>...</td>\n",
       "      <td>...</td>\n",
       "      <td>...</td>\n",
       "      <td>...</td>\n",
       "      <td>...</td>\n",
       "      <td>...</td>\n",
       "      <td>...</td>\n",
       "    </tr>\n",
       "    <tr>\n",
       "      <th>184381</th>\n",
       "      <td>2022-02-14</td>\n",
       "      <td>ZW</td>\n",
       "      <td>Zimbabwe</td>\n",
       "      <td>AFRO</td>\n",
       "      <td>82</td>\n",
       "      <td>231381</td>\n",
       "      <td>0</td>\n",
       "      <td>5374</td>\n",
       "    </tr>\n",
       "    <tr>\n",
       "      <th>184382</th>\n",
       "      <td>2022-02-15</td>\n",
       "      <td>ZW</td>\n",
       "      <td>Zimbabwe</td>\n",
       "      <td>AFRO</td>\n",
       "      <td>222</td>\n",
       "      <td>231603</td>\n",
       "      <td>0</td>\n",
       "      <td>5374</td>\n",
       "    </tr>\n",
       "    <tr>\n",
       "      <th>184383</th>\n",
       "      <td>2022-02-16</td>\n",
       "      <td>ZW</td>\n",
       "      <td>Zimbabwe</td>\n",
       "      <td>AFRO</td>\n",
       "      <td>260</td>\n",
       "      <td>231863</td>\n",
       "      <td>4</td>\n",
       "      <td>5378</td>\n",
       "    </tr>\n",
       "    <tr>\n",
       "      <th>184384</th>\n",
       "      <td>2022-02-17</td>\n",
       "      <td>ZW</td>\n",
       "      <td>Zimbabwe</td>\n",
       "      <td>AFRO</td>\n",
       "      <td>350</td>\n",
       "      <td>232213</td>\n",
       "      <td>1</td>\n",
       "      <td>5379</td>\n",
       "    </tr>\n",
       "    <tr>\n",
       "      <th>184385</th>\n",
       "      <td>2022-02-18</td>\n",
       "      <td>ZW</td>\n",
       "      <td>Zimbabwe</td>\n",
       "      <td>AFRO</td>\n",
       "      <td>0</td>\n",
       "      <td>232213</td>\n",
       "      <td>0</td>\n",
       "      <td>5379</td>\n",
       "    </tr>\n",
       "  </tbody>\n",
       "</table>\n",
       "<p>184386 rows × 8 columns</p>\n",
       "</div>"
      ],
      "text/plain": [
       "       Date_reported Country_code      Country WHO_region  New_cases  \\\n",
       "0         2020-01-03           AF  Afghanistan       EMRO          0   \n",
       "1         2020-01-04           AF  Afghanistan       EMRO          0   \n",
       "2         2020-01-05           AF  Afghanistan       EMRO          0   \n",
       "3         2020-01-06           AF  Afghanistan       EMRO          0   \n",
       "4         2020-01-07           AF  Afghanistan       EMRO          0   \n",
       "...              ...          ...          ...        ...        ...   \n",
       "184381    2022-02-14           ZW     Zimbabwe       AFRO         82   \n",
       "184382    2022-02-15           ZW     Zimbabwe       AFRO        222   \n",
       "184383    2022-02-16           ZW     Zimbabwe       AFRO        260   \n",
       "184384    2022-02-17           ZW     Zimbabwe       AFRO        350   \n",
       "184385    2022-02-18           ZW     Zimbabwe       AFRO          0   \n",
       "\n",
       "        Cumulative_cases  New_deaths  Cumulative_deaths  \n",
       "0                      0           0                  0  \n",
       "1                      0           0                  0  \n",
       "2                      0           0                  0  \n",
       "3                      0           0                  0  \n",
       "4                      0           0                  0  \n",
       "...                  ...         ...                ...  \n",
       "184381            231381           0               5374  \n",
       "184382            231603           0               5374  \n",
       "184383            231863           4               5378  \n",
       "184384            232213           1               5379  \n",
       "184385            232213           0               5379  \n",
       "\n",
       "[184386 rows x 8 columns]"
      ]
     },
     "execution_count": 7,
     "metadata": {},
     "output_type": "execute_result"
    }
   ],
   "source": [
    "DataF"
   ]
  },
  {
   "cell_type": "code",
   "execution_count": 8,
   "id": "b37965d3",
   "metadata": {},
   "outputs": [
    {
     "data": {
      "text/plain": [
       "RangeIndex(start=0, stop=184386, step=1)"
      ]
     },
     "execution_count": 8,
     "metadata": {},
     "output_type": "execute_result"
    }
   ],
   "source": [
    "DataF_index = DataF.index\n",
    "DataF_index"
   ]
  },
  {
   "cell_type": "code",
   "execution_count": 9,
   "id": "e257261d",
   "metadata": {},
   "outputs": [
    {
     "data": {
      "text/plain": [
       "Index(['Date_reported', 'Country_code', 'Country', 'WHO_region', 'New_cases',\n",
       "       'Cumulative_cases', 'New_deaths', 'Cumulative_deaths'],\n",
       "      dtype='object')"
      ]
     },
     "execution_count": 9,
     "metadata": {},
     "output_type": "execute_result"
    }
   ],
   "source": [
    "DataF_columns = DataF.columns\n",
    "DataF_columns"
   ]
  },
  {
   "cell_type": "code",
   "execution_count": 10,
   "id": "1179adf4",
   "metadata": {},
   "outputs": [
    {
     "data": {
      "text/plain": [
       "array([     0,      1,      2, ..., 184383, 184384, 184385], dtype=int64)"
      ]
     },
     "execution_count": 10,
     "metadata": {},
     "output_type": "execute_result"
    }
   ],
   "source": [
    "DataF_index.values"
   ]
  },
  {
   "cell_type": "code",
   "execution_count": 11,
   "id": "ff187971",
   "metadata": {},
   "outputs": [
    {
     "data": {
      "text/plain": [
       "array([['2020-01-03', 'AF', 'Afghanistan', ..., 0, 0, 0],\n",
       "       ['2020-01-04', 'AF', 'Afghanistan', ..., 0, 0, 0],\n",
       "       ['2020-01-05', 'AF', 'Afghanistan', ..., 0, 0, 0],\n",
       "       ...,\n",
       "       ['2022-02-16', 'ZW', 'Zimbabwe', ..., 231863, 4, 5378],\n",
       "       ['2022-02-17', 'ZW', 'Zimbabwe', ..., 232213, 1, 5379],\n",
       "       ['2022-02-18', 'ZW', 'Zimbabwe', ..., 232213, 0, 5379]],\n",
       "      dtype=object)"
      ]
     },
     "execution_count": 11,
     "metadata": {},
     "output_type": "execute_result"
    }
   ],
   "source": [
    "DataF.values"
   ]
  },
  {
   "cell_type": "code",
   "execution_count": 12,
   "id": "295bfec2",
   "metadata": {},
   "outputs": [
    {
     "data": {
      "text/plain": [
       "Date_reported        object\n",
       "Country_code         object\n",
       "Country              object\n",
       "WHO_region           object\n",
       "New_cases             int64\n",
       "Cumulative_cases      int64\n",
       "New_deaths            int64\n",
       "Cumulative_deaths     int64\n",
       "dtype: object"
      ]
     },
     "execution_count": 12,
     "metadata": {},
     "output_type": "execute_result"
    }
   ],
   "source": [
    "DataF.dtypes"
   ]
  },
  {
   "cell_type": "code",
   "execution_count": 13,
   "id": "fe988f8c",
   "metadata": {},
   "outputs": [
    {
     "data": {
      "text/plain": [
       "(184386, 8)"
      ]
     },
     "execution_count": 13,
     "metadata": {},
     "output_type": "execute_result"
    }
   ],
   "source": [
    "DataF.shape"
   ]
  },
  {
   "cell_type": "code",
   "execution_count": 14,
   "id": "582c7fa7",
   "metadata": {},
   "outputs": [
    {
     "data": {
      "text/html": [
       "<div>\n",
       "<style scoped>\n",
       "    .dataframe tbody tr th:only-of-type {\n",
       "        vertical-align: middle;\n",
       "    }\n",
       "\n",
       "    .dataframe tbody tr th {\n",
       "        vertical-align: top;\n",
       "    }\n",
       "\n",
       "    .dataframe thead th {\n",
       "        text-align: right;\n",
       "    }\n",
       "</style>\n",
       "<table border=\"1\" class=\"dataframe\">\n",
       "  <thead>\n",
       "    <tr style=\"text-align: right;\">\n",
       "      <th></th>\n",
       "      <th>Date_reported</th>\n",
       "      <th>Country_code</th>\n",
       "      <th>Country</th>\n",
       "      <th>WHO_region</th>\n",
       "      <th>New_cases</th>\n",
       "      <th>Cumulative_cases</th>\n",
       "      <th>New_deaths</th>\n",
       "      <th>Cumulative_deaths</th>\n",
       "    </tr>\n",
       "  </thead>\n",
       "  <tbody>\n",
       "    <tr>\n",
       "      <th>0</th>\n",
       "      <td>2020-01-03</td>\n",
       "      <td>AF</td>\n",
       "      <td>Afghanistan</td>\n",
       "      <td>EMRO</td>\n",
       "      <td>0</td>\n",
       "      <td>0</td>\n",
       "      <td>0</td>\n",
       "      <td>0</td>\n",
       "    </tr>\n",
       "    <tr>\n",
       "      <th>1</th>\n",
       "      <td>2020-01-04</td>\n",
       "      <td>AF</td>\n",
       "      <td>Afghanistan</td>\n",
       "      <td>EMRO</td>\n",
       "      <td>0</td>\n",
       "      <td>0</td>\n",
       "      <td>0</td>\n",
       "      <td>0</td>\n",
       "    </tr>\n",
       "    <tr>\n",
       "      <th>2</th>\n",
       "      <td>2020-01-05</td>\n",
       "      <td>AF</td>\n",
       "      <td>Afghanistan</td>\n",
       "      <td>EMRO</td>\n",
       "      <td>0</td>\n",
       "      <td>0</td>\n",
       "      <td>0</td>\n",
       "      <td>0</td>\n",
       "    </tr>\n",
       "    <tr>\n",
       "      <th>3</th>\n",
       "      <td>2020-01-06</td>\n",
       "      <td>AF</td>\n",
       "      <td>Afghanistan</td>\n",
       "      <td>EMRO</td>\n",
       "      <td>0</td>\n",
       "      <td>0</td>\n",
       "      <td>0</td>\n",
       "      <td>0</td>\n",
       "    </tr>\n",
       "    <tr>\n",
       "      <th>4</th>\n",
       "      <td>2020-01-07</td>\n",
       "      <td>AF</td>\n",
       "      <td>Afghanistan</td>\n",
       "      <td>EMRO</td>\n",
       "      <td>0</td>\n",
       "      <td>0</td>\n",
       "      <td>0</td>\n",
       "      <td>0</td>\n",
       "    </tr>\n",
       "  </tbody>\n",
       "</table>\n",
       "</div>"
      ],
      "text/plain": [
       "  Date_reported Country_code      Country WHO_region  New_cases  \\\n",
       "0    2020-01-03           AF  Afghanistan       EMRO          0   \n",
       "1    2020-01-04           AF  Afghanistan       EMRO          0   \n",
       "2    2020-01-05           AF  Afghanistan       EMRO          0   \n",
       "3    2020-01-06           AF  Afghanistan       EMRO          0   \n",
       "4    2020-01-07           AF  Afghanistan       EMRO          0   \n",
       "\n",
       "   Cumulative_cases  New_deaths  Cumulative_deaths  \n",
       "0                 0           0                  0  \n",
       "1                 0           0                  0  \n",
       "2                 0           0                  0  \n",
       "3                 0           0                  0  \n",
       "4                 0           0                  0  "
      ]
     },
     "execution_count": 14,
     "metadata": {},
     "output_type": "execute_result"
    }
   ],
   "source": [
    "DataF.head()"
   ]
  },
  {
   "cell_type": "code",
   "execution_count": 15,
   "id": "055431c1",
   "metadata": {},
   "outputs": [
    {
     "data": {
      "text/html": [
       "<div>\n",
       "<style scoped>\n",
       "    .dataframe tbody tr th:only-of-type {\n",
       "        vertical-align: middle;\n",
       "    }\n",
       "\n",
       "    .dataframe tbody tr th {\n",
       "        vertical-align: top;\n",
       "    }\n",
       "\n",
       "    .dataframe thead th {\n",
       "        text-align: right;\n",
       "    }\n",
       "</style>\n",
       "<table border=\"1\" class=\"dataframe\">\n",
       "  <thead>\n",
       "    <tr style=\"text-align: right;\">\n",
       "      <th></th>\n",
       "      <th>Date_reported</th>\n",
       "      <th>Country_code</th>\n",
       "      <th>Country</th>\n",
       "      <th>WHO_region</th>\n",
       "      <th>New_cases</th>\n",
       "      <th>Cumulative_cases</th>\n",
       "      <th>New_deaths</th>\n",
       "      <th>Cumulative_deaths</th>\n",
       "    </tr>\n",
       "  </thead>\n",
       "  <tbody>\n",
       "    <tr>\n",
       "      <th>184381</th>\n",
       "      <td>2022-02-14</td>\n",
       "      <td>ZW</td>\n",
       "      <td>Zimbabwe</td>\n",
       "      <td>AFRO</td>\n",
       "      <td>82</td>\n",
       "      <td>231381</td>\n",
       "      <td>0</td>\n",
       "      <td>5374</td>\n",
       "    </tr>\n",
       "    <tr>\n",
       "      <th>184382</th>\n",
       "      <td>2022-02-15</td>\n",
       "      <td>ZW</td>\n",
       "      <td>Zimbabwe</td>\n",
       "      <td>AFRO</td>\n",
       "      <td>222</td>\n",
       "      <td>231603</td>\n",
       "      <td>0</td>\n",
       "      <td>5374</td>\n",
       "    </tr>\n",
       "    <tr>\n",
       "      <th>184383</th>\n",
       "      <td>2022-02-16</td>\n",
       "      <td>ZW</td>\n",
       "      <td>Zimbabwe</td>\n",
       "      <td>AFRO</td>\n",
       "      <td>260</td>\n",
       "      <td>231863</td>\n",
       "      <td>4</td>\n",
       "      <td>5378</td>\n",
       "    </tr>\n",
       "    <tr>\n",
       "      <th>184384</th>\n",
       "      <td>2022-02-17</td>\n",
       "      <td>ZW</td>\n",
       "      <td>Zimbabwe</td>\n",
       "      <td>AFRO</td>\n",
       "      <td>350</td>\n",
       "      <td>232213</td>\n",
       "      <td>1</td>\n",
       "      <td>5379</td>\n",
       "    </tr>\n",
       "    <tr>\n",
       "      <th>184385</th>\n",
       "      <td>2022-02-18</td>\n",
       "      <td>ZW</td>\n",
       "      <td>Zimbabwe</td>\n",
       "      <td>AFRO</td>\n",
       "      <td>0</td>\n",
       "      <td>232213</td>\n",
       "      <td>0</td>\n",
       "      <td>5379</td>\n",
       "    </tr>\n",
       "  </tbody>\n",
       "</table>\n",
       "</div>"
      ],
      "text/plain": [
       "       Date_reported Country_code   Country WHO_region  New_cases  \\\n",
       "184381    2022-02-14           ZW  Zimbabwe       AFRO         82   \n",
       "184382    2022-02-15           ZW  Zimbabwe       AFRO        222   \n",
       "184383    2022-02-16           ZW  Zimbabwe       AFRO        260   \n",
       "184384    2022-02-17           ZW  Zimbabwe       AFRO        350   \n",
       "184385    2022-02-18           ZW  Zimbabwe       AFRO          0   \n",
       "\n",
       "        Cumulative_cases  New_deaths  Cumulative_deaths  \n",
       "184381            231381           0               5374  \n",
       "184382            231603           0               5374  \n",
       "184383            231863           4               5378  \n",
       "184384            232213           1               5379  \n",
       "184385            232213           0               5379  "
      ]
     },
     "execution_count": 15,
     "metadata": {},
     "output_type": "execute_result"
    }
   ],
   "source": [
    "DataF.tail()"
   ]
  },
  {
   "cell_type": "code",
   "execution_count": 16,
   "id": "6fd8e6bd",
   "metadata": {},
   "outputs": [
    {
     "name": "stdout",
     "output_type": "stream",
     "text": [
      "<class 'pandas.core.frame.DataFrame'>\n",
      "RangeIndex: 184386 entries, 0 to 184385\n",
      "Data columns (total 8 columns):\n",
      " #   Column             Non-Null Count   Dtype \n",
      "---  ------             --------------   ----- \n",
      " 0   Date_reported      184386 non-null  object\n",
      " 1   Country_code       183608 non-null  object\n",
      " 2   Country            184386 non-null  object\n",
      " 3   WHO_region         184386 non-null  object\n",
      " 4   New_cases          184386 non-null  int64 \n",
      " 5   Cumulative_cases   184386 non-null  int64 \n",
      " 6   New_deaths         184386 non-null  int64 \n",
      " 7   Cumulative_deaths  184386 non-null  int64 \n",
      "dtypes: int64(4), object(4)\n",
      "memory usage: 11.3+ MB\n"
     ]
    }
   ],
   "source": [
    "DataF.info()"
   ]
  },
  {
   "cell_type": "code",
   "execution_count": 17,
   "id": "7be17119",
   "metadata": {},
   "outputs": [
    {
     "data": {
      "text/html": [
       "<div>\n",
       "<style scoped>\n",
       "    .dataframe tbody tr th:only-of-type {\n",
       "        vertical-align: middle;\n",
       "    }\n",
       "\n",
       "    .dataframe tbody tr th {\n",
       "        vertical-align: top;\n",
       "    }\n",
       "\n",
       "    .dataframe thead th {\n",
       "        text-align: right;\n",
       "    }\n",
       "</style>\n",
       "<table border=\"1\" class=\"dataframe\">\n",
       "  <thead>\n",
       "    <tr style=\"text-align: right;\">\n",
       "      <th></th>\n",
       "      <th>New_cases</th>\n",
       "      <th>Cumulative_cases</th>\n",
       "      <th>New_deaths</th>\n",
       "      <th>Cumulative_deaths</th>\n",
       "    </tr>\n",
       "  </thead>\n",
       "  <tbody>\n",
       "    <tr>\n",
       "      <th>count</th>\n",
       "      <td>1.843860e+05</td>\n",
       "      <td>1.843860e+05</td>\n",
       "      <td>184386.000000</td>\n",
       "      <td>184386.000000</td>\n",
       "    </tr>\n",
       "    <tr>\n",
       "      <th>mean</th>\n",
       "      <td>2.270511e+03</td>\n",
       "      <td>4.977848e+05</td>\n",
       "      <td>31.760676</td>\n",
       "      <td>10432.261110</td>\n",
       "    </tr>\n",
       "    <tr>\n",
       "      <th>std</th>\n",
       "      <td>1.569237e+04</td>\n",
       "      <td>2.748729e+06</td>\n",
       "      <td>166.017200</td>\n",
       "      <td>49628.839883</td>\n",
       "    </tr>\n",
       "    <tr>\n",
       "      <th>min</th>\n",
       "      <td>-3.295200e+04</td>\n",
       "      <td>0.000000e+00</td>\n",
       "      <td>-60.000000</td>\n",
       "      <td>0.000000</td>\n",
       "    </tr>\n",
       "    <tr>\n",
       "      <th>25%</th>\n",
       "      <td>0.000000e+00</td>\n",
       "      <td>1.270000e+02</td>\n",
       "      <td>0.000000</td>\n",
       "      <td>1.000000</td>\n",
       "    </tr>\n",
       "    <tr>\n",
       "      <th>50%</th>\n",
       "      <td>2.100000e+01</td>\n",
       "      <td>8.438000e+03</td>\n",
       "      <td>0.000000</td>\n",
       "      <td>121.000000</td>\n",
       "    </tr>\n",
       "    <tr>\n",
       "      <th>75%</th>\n",
       "      <td>4.880000e+02</td>\n",
       "      <td>1.322770e+05</td>\n",
       "      <td>6.000000</td>\n",
       "      <td>2280.000000</td>\n",
       "    </tr>\n",
       "    <tr>\n",
       "      <th>max</th>\n",
       "      <td>1.327952e+06</td>\n",
       "      <td>7.752159e+07</td>\n",
       "      <td>8786.000000</td>\n",
       "      <td>921984.000000</td>\n",
       "    </tr>\n",
       "  </tbody>\n",
       "</table>\n",
       "</div>"
      ],
      "text/plain": [
       "          New_cases  Cumulative_cases     New_deaths  Cumulative_deaths\n",
       "count  1.843860e+05      1.843860e+05  184386.000000      184386.000000\n",
       "mean   2.270511e+03      4.977848e+05      31.760676       10432.261110\n",
       "std    1.569237e+04      2.748729e+06     166.017200       49628.839883\n",
       "min   -3.295200e+04      0.000000e+00     -60.000000           0.000000\n",
       "25%    0.000000e+00      1.270000e+02       0.000000           1.000000\n",
       "50%    2.100000e+01      8.438000e+03       0.000000         121.000000\n",
       "75%    4.880000e+02      1.322770e+05       6.000000        2280.000000\n",
       "max    1.327952e+06      7.752159e+07    8786.000000      921984.000000"
      ]
     },
     "execution_count": 17,
     "metadata": {},
     "output_type": "execute_result"
    }
   ],
   "source": [
    "DataF.describe()"
   ]
  },
  {
   "cell_type": "code",
   "execution_count": 18,
   "id": "fbc3eaa0",
   "metadata": {},
   "outputs": [
    {
     "data": {
      "text/plain": [
       "0         Afghanistan\n",
       "1         Afghanistan\n",
       "2         Afghanistan\n",
       "3         Afghanistan\n",
       "4         Afghanistan\n",
       "             ...     \n",
       "184381       Zimbabwe\n",
       "184382       Zimbabwe\n",
       "184383       Zimbabwe\n",
       "184384       Zimbabwe\n",
       "184385       Zimbabwe\n",
       "Name: Country, Length: 184386, dtype: object"
      ]
     },
     "execution_count": 18,
     "metadata": {},
     "output_type": "execute_result"
    }
   ],
   "source": [
    "DataF[\"Country\"]"
   ]
  },
  {
   "cell_type": "code",
   "execution_count": 19,
   "id": "c2a80343",
   "metadata": {
    "scrolled": false
   },
   "outputs": [
    {
     "data": {
      "text/plain": [
       "array(['Afghanistan', 'Albania', 'Algeria', 'American Samoa', 'Andorra',\n",
       "       'Angola', 'Anguilla', 'Antigua and Barbuda', 'Argentina',\n",
       "       'Armenia', 'Aruba', 'Australia', 'Austria', 'Azerbaijan',\n",
       "       'Bahamas', 'Bahrain', 'Bangladesh', 'Barbados', 'Belarus',\n",
       "       'Belgium', 'Belize', 'Benin', 'Bermuda', 'Bhutan',\n",
       "       'Bolivia (Plurinational State of)', 'Bonaire',\n",
       "       'Bosnia and Herzegovina', 'Botswana', 'Brazil',\n",
       "       'British Virgin Islands', 'Brunei Darussalam', 'Bulgaria',\n",
       "       'Burkina Faso', 'Burundi', 'Cabo Verde', 'Cambodia', 'Cameroon',\n",
       "       'Canada', 'Cayman Islands', 'Central African Republic', 'Chad',\n",
       "       'Chile', 'China', 'Colombia', 'Comoros', 'Congo', 'Cook Islands',\n",
       "       'Costa Rica', 'Côte d’Ivoire', 'Croatia', 'Cuba', 'Curaçao',\n",
       "       'Cyprus', 'Czechia', \"Democratic People's Republic of Korea\",\n",
       "       'Democratic Republic of the Congo', 'Denmark', 'Djibouti',\n",
       "       'Dominica', 'Dominican Republic', 'Ecuador', 'Egypt',\n",
       "       'El Salvador', 'Equatorial Guinea', 'Eritrea', 'Estonia',\n",
       "       'Eswatini', 'Ethiopia', 'Falkland Islands (Malvinas)',\n",
       "       'Faroe Islands', 'Fiji', 'Finland', 'France', 'French Guiana',\n",
       "       'French Polynesia', 'Gabon', 'Gambia', 'Georgia', 'Germany',\n",
       "       'Ghana', 'Gibraltar', 'Greece', 'Greenland', 'Grenada',\n",
       "       'Guadeloupe', 'Guam', 'Guatemala', 'Guernsey', 'Guinea',\n",
       "       'Guinea-Bissau', 'Guyana', 'Haiti', 'Holy See', 'Honduras',\n",
       "       'Hungary', 'Iceland', 'India', 'Indonesia',\n",
       "       'Iran (Islamic Republic of)', 'Iraq', 'Ireland', 'Isle of Man',\n",
       "       'Israel', 'Italy', 'Jamaica', 'Japan', 'Jersey', 'Jordan',\n",
       "       'Kazakhstan', 'Kenya', 'Kiribati', 'Kosovo[1]', 'Kuwait',\n",
       "       'Kyrgyzstan', \"Lao People's Democratic Republic\", 'Latvia',\n",
       "       'Lebanon', 'Lesotho', 'Liberia', 'Libya', 'Liechtenstein',\n",
       "       'Lithuania', 'Luxembourg', 'Madagascar', 'Malawi', 'Malaysia',\n",
       "       'Maldives', 'Mali', 'Malta', 'Marshall Islands', 'Martinique',\n",
       "       'Mauritania', 'Mauritius', 'Mayotte', 'Mexico',\n",
       "       'Micronesia (Federated States of)', 'Monaco', 'Mongolia',\n",
       "       'Montenegro', 'Montserrat', 'Morocco', 'Mozambique', 'Myanmar',\n",
       "       'Namibia', 'Nauru', 'Nepal', 'Netherlands', 'New Caledonia',\n",
       "       'New Zealand', 'Nicaragua', 'Niger', 'Nigeria', 'Niue',\n",
       "       'North Macedonia',\n",
       "       'Northern Mariana Islands (Commonwealth of the)', 'Norway',\n",
       "       'occupied Palestinian territory, including east Jerusalem', 'Oman',\n",
       "       'Other', 'Pakistan', 'Palau', 'Panama', 'Papua New Guinea',\n",
       "       'Paraguay', 'Peru', 'Philippines', 'Pitcairn Islands', 'Poland',\n",
       "       'Portugal', 'Puerto Rico', 'Qatar', 'Republic of Korea',\n",
       "       'Republic of Moldova', 'Réunion', 'Romania', 'Russian Federation',\n",
       "       'Rwanda', 'Saba', 'Saint Barthélemy', 'Saint Helena',\n",
       "       'Saint Kitts and Nevis', 'Saint Lucia', 'Saint Martin',\n",
       "       'Saint Pierre and Miquelon', 'Saint Vincent and the Grenadines',\n",
       "       'Samoa', 'San Marino', 'Sao Tome and Principe', 'Saudi Arabia',\n",
       "       'Senegal', 'Serbia', 'Seychelles', 'Sierra Leone', 'Singapore',\n",
       "       'Sint Eustatius', 'Sint Maarten', 'Slovakia', 'Slovenia',\n",
       "       'Solomon Islands', 'Somalia', 'South Africa', 'South Sudan',\n",
       "       'Spain', 'Sri Lanka', 'Sudan', 'Suriname', 'Sweden', 'Switzerland',\n",
       "       'Syrian Arab Republic', 'Tajikistan', 'Thailand',\n",
       "       'The United Kingdom', 'Timor-Leste', 'Togo', 'Tokelau', 'Tonga',\n",
       "       'Trinidad and Tobago', 'Tunisia', 'Turkey', 'Turkmenistan',\n",
       "       'Turks and Caicos Islands', 'Tuvalu', 'Uganda', 'Ukraine',\n",
       "       'United Arab Emirates', 'United Republic of Tanzania',\n",
       "       'United States of America', 'United States Virgin Islands',\n",
       "       'Uruguay', 'Uzbekistan', 'Vanuatu',\n",
       "       'Venezuela (Bolivarian Republic of)', 'Viet Nam',\n",
       "       'Wallis and Futuna', 'Yemen', 'Zambia', 'Zimbabwe'], dtype=object)"
      ]
     },
     "execution_count": 19,
     "metadata": {},
     "output_type": "execute_result"
    }
   ],
   "source": [
    "DataF[\"Country\"].unique()"
   ]
  },
  {
   "cell_type": "code",
   "execution_count": 20,
   "id": "c5016b98",
   "metadata": {},
   "outputs": [
    {
     "data": {
      "text/plain": [
       "array(['AF', 'AL', 'DZ', 'AS', 'AD', 'AO', 'AI', 'AG', 'AR', 'AM', 'AW',\n",
       "       'AU', 'AT', 'AZ', 'BS', 'BH', 'BD', 'BB', 'BY', 'BE', 'BZ', 'BJ',\n",
       "       'BM', 'BT', 'BO', 'XA', 'BA', 'BW', 'BR', 'VG', 'BN', 'BG', 'BF',\n",
       "       'BI', 'CV', 'KH', 'CM', 'CA', 'KY', 'CF', 'TD', 'CL', 'CN', 'CO',\n",
       "       'KM', 'CG', 'CK', 'CR', 'CI', 'HR', 'CU', 'CW', 'CY', 'CZ', 'KP',\n",
       "       'CD', 'DK', 'DJ', 'DM', 'DO', 'EC', 'EG', 'SV', 'GQ', 'ER', 'EE',\n",
       "       'SZ', 'ET', 'FK', 'FO', 'FJ', 'FI', 'FR', 'GF', 'PF', 'GA', 'GM',\n",
       "       'GE', 'DE', 'GH', 'GI', 'GR', 'GL', 'GD', 'GP', 'GU', 'GT', 'GG',\n",
       "       'GN', 'GW', 'GY', 'HT', 'VA', 'HN', 'HU', 'IS', 'IN', 'ID', 'IR',\n",
       "       'IQ', 'IE', 'IM', 'IL', 'IT', 'JM', 'JP', 'JE', 'JO', 'KZ', 'KE',\n",
       "       'KI', 'XK', 'KW', 'KG', 'LA', 'LV', 'LB', 'LS', 'LR', 'LY', 'LI',\n",
       "       'LT', 'LU', 'MG', 'MW', 'MY', 'MV', 'ML', 'MT', 'MH', 'MQ', 'MR',\n",
       "       'MU', 'YT', 'MX', 'FM', 'MC', 'MN', 'ME', 'MS', 'MA', 'MZ', 'MM',\n",
       "       nan, 'NR', 'NP', 'NL', 'NC', 'NZ', 'NI', 'NE', 'NG', 'NU', 'MK',\n",
       "       'MP', 'NO', 'PS', 'OM', ' ', 'PK', 'PW', 'PA', 'PG', 'PY', 'PE',\n",
       "       'PH', 'PN', 'PL', 'PT', 'PR', 'QA', 'KR', 'MD', 'RE', 'RO', 'RU',\n",
       "       'RW', 'XC', 'BL', 'SH', 'KN', 'LC', 'MF', 'PM', 'VC', 'WS', 'SM',\n",
       "       'ST', 'SA', 'SN', 'RS', 'SC', 'SL', 'SG', 'XB', 'SX', 'SK', 'SI',\n",
       "       'SB', 'SO', 'ZA', 'SS', 'ES', 'LK', 'SD', 'SR', 'SE', 'CH', 'SY',\n",
       "       'TJ', 'TH', 'GB', 'TL', 'TG', 'TK', 'TO', 'TT', 'TN', 'TR', 'TM',\n",
       "       'TC', 'TV', 'UG', 'UA', 'AE', 'TZ', 'US', 'VI', 'UY', 'UZ', 'VU',\n",
       "       'VE', 'VN', 'WF', 'YE', 'ZM', 'ZW'], dtype=object)"
      ]
     },
     "execution_count": 20,
     "metadata": {},
     "output_type": "execute_result"
    }
   ],
   "source": [
    "DataF[\"Country_code\"].unique()"
   ]
  },
  {
   "cell_type": "code",
   "execution_count": 21,
   "id": "251de88a",
   "metadata": {},
   "outputs": [
    {
     "data": {
      "text/plain": [
       "Index(['Date_reported', 'Country_code', 'Country', 'WHO_region', 'New_cases',\n",
       "       'Cumulative_cases', 'New_deaths', 'Cumulative_deaths'],\n",
       "      dtype='object')"
      ]
     },
     "execution_count": 21,
     "metadata": {},
     "output_type": "execute_result"
    }
   ],
   "source": [
    "DataF.columns = [col.strip() for col in DataF.columns]\n",
    "DataF.columns"
   ]
  },
  {
   "cell_type": "code",
   "execution_count": 22,
   "id": "b1a8cd62",
   "metadata": {},
   "outputs": [
    {
     "data": {
      "text/plain": [
       "0         Afghanistan\n",
       "1         Afghanistan\n",
       "2         Afghanistan\n",
       "3         Afghanistan\n",
       "4         Afghanistan\n",
       "             ...     \n",
       "184381       Zimbabwe\n",
       "184382       Zimbabwe\n",
       "184383       Zimbabwe\n",
       "184384       Zimbabwe\n",
       "184385       Zimbabwe\n",
       "Name: Country, Length: 184386, dtype: object"
      ]
     },
     "execution_count": 22,
     "metadata": {},
     "output_type": "execute_result"
    }
   ],
   "source": [
    "DataF.Country"
   ]
  },
  {
   "cell_type": "code",
   "execution_count": 23,
   "id": "cfbcfc82",
   "metadata": {},
   "outputs": [
    {
     "data": {
      "text/plain": [
       "1    Afghanistan\n",
       "2    Afghanistan\n",
       "3    Afghanistan\n",
       "4    Afghanistan\n",
       "Name: Country, dtype: object"
      ]
     },
     "execution_count": 23,
     "metadata": {},
     "output_type": "execute_result"
    }
   ],
   "source": [
    " DataF.loc[1:4, \"Country\"]"
   ]
  },
  {
   "cell_type": "code",
   "execution_count": 24,
   "id": "39e10190",
   "metadata": {},
   "outputs": [
    {
     "data": {
      "text/html": [
       "<div>\n",
       "<style scoped>\n",
       "    .dataframe tbody tr th:only-of-type {\n",
       "        vertical-align: middle;\n",
       "    }\n",
       "\n",
       "    .dataframe tbody tr th {\n",
       "        vertical-align: top;\n",
       "    }\n",
       "\n",
       "    .dataframe thead th {\n",
       "        text-align: right;\n",
       "    }\n",
       "</style>\n",
       "<table border=\"1\" class=\"dataframe\">\n",
       "  <thead>\n",
       "    <tr style=\"text-align: right;\">\n",
       "      <th></th>\n",
       "      <th>Country</th>\n",
       "      <th>New_cases</th>\n",
       "    </tr>\n",
       "  </thead>\n",
       "  <tbody>\n",
       "    <tr>\n",
       "      <th>1</th>\n",
       "      <td>Afghanistan</td>\n",
       "      <td>0</td>\n",
       "    </tr>\n",
       "    <tr>\n",
       "      <th>2</th>\n",
       "      <td>Afghanistan</td>\n",
       "      <td>0</td>\n",
       "    </tr>\n",
       "    <tr>\n",
       "      <th>3</th>\n",
       "      <td>Afghanistan</td>\n",
       "      <td>0</td>\n",
       "    </tr>\n",
       "    <tr>\n",
       "      <th>4</th>\n",
       "      <td>Afghanistan</td>\n",
       "      <td>0</td>\n",
       "    </tr>\n",
       "    <tr>\n",
       "      <th>5</th>\n",
       "      <td>Afghanistan</td>\n",
       "      <td>0</td>\n",
       "    </tr>\n",
       "    <tr>\n",
       "      <th>6</th>\n",
       "      <td>Afghanistan</td>\n",
       "      <td>0</td>\n",
       "    </tr>\n",
       "    <tr>\n",
       "      <th>7</th>\n",
       "      <td>Afghanistan</td>\n",
       "      <td>0</td>\n",
       "    </tr>\n",
       "    <tr>\n",
       "      <th>8</th>\n",
       "      <td>Afghanistan</td>\n",
       "      <td>0</td>\n",
       "    </tr>\n",
       "  </tbody>\n",
       "</table>\n",
       "</div>"
      ],
      "text/plain": [
       "       Country  New_cases\n",
       "1  Afghanistan          0\n",
       "2  Afghanistan          0\n",
       "3  Afghanistan          0\n",
       "4  Afghanistan          0\n",
       "5  Afghanistan          0\n",
       "6  Afghanistan          0\n",
       "7  Afghanistan          0\n",
       "8  Afghanistan          0"
      ]
     },
     "execution_count": 24,
     "metadata": {},
     "output_type": "execute_result"
    }
   ],
   "source": [
    "DataF.loc[1:8,[\"Country\", \"New_cases\"]]"
   ]
  },
  {
   "cell_type": "code",
   "execution_count": 25,
   "id": "bc17ce88",
   "metadata": {},
   "outputs": [
    {
     "data": {
      "text/plain": [
       "0         False\n",
       "1         False\n",
       "2         False\n",
       "3         False\n",
       "4         False\n",
       "          ...  \n",
       "184381    False\n",
       "184382    False\n",
       "184383    False\n",
       "184384    False\n",
       "184385    False\n",
       "Name: Country, Length: 184386, dtype: bool"
      ]
     },
     "execution_count": 25,
     "metadata": {},
     "output_type": "execute_result"
    }
   ],
   "source": [
    "DataF.Country == \"India\""
   ]
  },
  {
   "cell_type": "code",
   "execution_count": 26,
   "id": "3abaa1cd",
   "metadata": {},
   "outputs": [
    {
     "data": {
      "text/html": [
       "<div>\n",
       "<style scoped>\n",
       "    .dataframe tbody tr th:only-of-type {\n",
       "        vertical-align: middle;\n",
       "    }\n",
       "\n",
       "    .dataframe tbody tr th {\n",
       "        vertical-align: top;\n",
       "    }\n",
       "\n",
       "    .dataframe thead th {\n",
       "        text-align: right;\n",
       "    }\n",
       "</style>\n",
       "<table border=\"1\" class=\"dataframe\">\n",
       "  <thead>\n",
       "    <tr style=\"text-align: right;\">\n",
       "      <th></th>\n",
       "      <th>Date_reported</th>\n",
       "      <th>Country_code</th>\n",
       "      <th>Country</th>\n",
       "      <th>WHO_region</th>\n",
       "      <th>New_cases</th>\n",
       "      <th>Cumulative_cases</th>\n",
       "      <th>New_deaths</th>\n",
       "      <th>Cumulative_deaths</th>\n",
       "    </tr>\n",
       "  </thead>\n",
       "  <tbody>\n",
       "    <tr>\n",
       "      <th>74688</th>\n",
       "      <td>2020-01-03</td>\n",
       "      <td>IN</td>\n",
       "      <td>India</td>\n",
       "      <td>SEARO</td>\n",
       "      <td>0</td>\n",
       "      <td>0</td>\n",
       "      <td>0</td>\n",
       "      <td>0</td>\n",
       "    </tr>\n",
       "    <tr>\n",
       "      <th>74689</th>\n",
       "      <td>2020-01-04</td>\n",
       "      <td>IN</td>\n",
       "      <td>India</td>\n",
       "      <td>SEARO</td>\n",
       "      <td>0</td>\n",
       "      <td>0</td>\n",
       "      <td>0</td>\n",
       "      <td>0</td>\n",
       "    </tr>\n",
       "    <tr>\n",
       "      <th>74690</th>\n",
       "      <td>2020-01-05</td>\n",
       "      <td>IN</td>\n",
       "      <td>India</td>\n",
       "      <td>SEARO</td>\n",
       "      <td>0</td>\n",
       "      <td>0</td>\n",
       "      <td>0</td>\n",
       "      <td>0</td>\n",
       "    </tr>\n",
       "    <tr>\n",
       "      <th>74691</th>\n",
       "      <td>2020-01-06</td>\n",
       "      <td>IN</td>\n",
       "      <td>India</td>\n",
       "      <td>SEARO</td>\n",
       "      <td>0</td>\n",
       "      <td>0</td>\n",
       "      <td>0</td>\n",
       "      <td>0</td>\n",
       "    </tr>\n",
       "    <tr>\n",
       "      <th>74692</th>\n",
       "      <td>2020-01-07</td>\n",
       "      <td>IN</td>\n",
       "      <td>India</td>\n",
       "      <td>SEARO</td>\n",
       "      <td>0</td>\n",
       "      <td>0</td>\n",
       "      <td>0</td>\n",
       "      <td>0</td>\n",
       "    </tr>\n",
       "    <tr>\n",
       "      <th>...</th>\n",
       "      <td>...</td>\n",
       "      <td>...</td>\n",
       "      <td>...</td>\n",
       "      <td>...</td>\n",
       "      <td>...</td>\n",
       "      <td>...</td>\n",
       "      <td>...</td>\n",
       "      <td>...</td>\n",
       "    </tr>\n",
       "    <tr>\n",
       "      <th>75461</th>\n",
       "      <td>2022-02-14</td>\n",
       "      <td>IN</td>\n",
       "      <td>India</td>\n",
       "      <td>SEARO</td>\n",
       "      <td>34113</td>\n",
       "      <td>42665534</td>\n",
       "      <td>346</td>\n",
       "      <td>509011</td>\n",
       "    </tr>\n",
       "    <tr>\n",
       "      <th>75462</th>\n",
       "      <td>2022-02-15</td>\n",
       "      <td>IN</td>\n",
       "      <td>India</td>\n",
       "      <td>SEARO</td>\n",
       "      <td>27409</td>\n",
       "      <td>42692943</td>\n",
       "      <td>347</td>\n",
       "      <td>509358</td>\n",
       "    </tr>\n",
       "    <tr>\n",
       "      <th>75463</th>\n",
       "      <td>2022-02-16</td>\n",
       "      <td>IN</td>\n",
       "      <td>India</td>\n",
       "      <td>SEARO</td>\n",
       "      <td>30615</td>\n",
       "      <td>42723558</td>\n",
       "      <td>514</td>\n",
       "      <td>509872</td>\n",
       "    </tr>\n",
       "    <tr>\n",
       "      <th>75464</th>\n",
       "      <td>2022-02-17</td>\n",
       "      <td>IN</td>\n",
       "      <td>India</td>\n",
       "      <td>SEARO</td>\n",
       "      <td>30757</td>\n",
       "      <td>42754315</td>\n",
       "      <td>541</td>\n",
       "      <td>510413</td>\n",
       "    </tr>\n",
       "    <tr>\n",
       "      <th>75465</th>\n",
       "      <td>2022-02-18</td>\n",
       "      <td>IN</td>\n",
       "      <td>India</td>\n",
       "      <td>SEARO</td>\n",
       "      <td>25920</td>\n",
       "      <td>42780235</td>\n",
       "      <td>492</td>\n",
       "      <td>510905</td>\n",
       "    </tr>\n",
       "  </tbody>\n",
       "</table>\n",
       "<p>778 rows × 8 columns</p>\n",
       "</div>"
      ],
      "text/plain": [
       "      Date_reported Country_code Country WHO_region  New_cases  \\\n",
       "74688    2020-01-03           IN   India      SEARO          0   \n",
       "74689    2020-01-04           IN   India      SEARO          0   \n",
       "74690    2020-01-05           IN   India      SEARO          0   \n",
       "74691    2020-01-06           IN   India      SEARO          0   \n",
       "74692    2020-01-07           IN   India      SEARO          0   \n",
       "...             ...          ...     ...        ...        ...   \n",
       "75461    2022-02-14           IN   India      SEARO      34113   \n",
       "75462    2022-02-15           IN   India      SEARO      27409   \n",
       "75463    2022-02-16           IN   India      SEARO      30615   \n",
       "75464    2022-02-17           IN   India      SEARO      30757   \n",
       "75465    2022-02-18           IN   India      SEARO      25920   \n",
       "\n",
       "       Cumulative_cases  New_deaths  Cumulative_deaths  \n",
       "74688                 0           0                  0  \n",
       "74689                 0           0                  0  \n",
       "74690                 0           0                  0  \n",
       "74691                 0           0                  0  \n",
       "74692                 0           0                  0  \n",
       "...                 ...         ...                ...  \n",
       "75461          42665534         346             509011  \n",
       "75462          42692943         347             509358  \n",
       "75463          42723558         514             509872  \n",
       "75464          42754315         541             510413  \n",
       "75465          42780235         492             510905  \n",
       "\n",
       "[778 rows x 8 columns]"
      ]
     },
     "execution_count": 26,
     "metadata": {},
     "output_type": "execute_result"
    }
   ],
   "source": [
    "DataF[DataF.Country == \"India\"]"
   ]
  },
  {
   "cell_type": "code",
   "execution_count": 27,
   "id": "6c6db377",
   "metadata": {},
   "outputs": [
    {
     "data": {
      "text/html": [
       "<div>\n",
       "<style scoped>\n",
       "    .dataframe tbody tr th:only-of-type {\n",
       "        vertical-align: middle;\n",
       "    }\n",
       "\n",
       "    .dataframe tbody tr th {\n",
       "        vertical-align: top;\n",
       "    }\n",
       "\n",
       "    .dataframe thead th {\n",
       "        text-align: right;\n",
       "    }\n",
       "</style>\n",
       "<table border=\"1\" class=\"dataframe\">\n",
       "  <thead>\n",
       "    <tr style=\"text-align: right;\">\n",
       "      <th></th>\n",
       "      <th>Date_reported</th>\n",
       "      <th>Country_code</th>\n",
       "      <th>Country</th>\n",
       "      <th>WHO_region</th>\n",
       "      <th>New_cases</th>\n",
       "      <th>Cumulative_cases</th>\n",
       "      <th>New_deaths</th>\n",
       "      <th>Cumulative_deaths</th>\n",
       "    </tr>\n",
       "  </thead>\n",
       "  <tbody>\n",
       "    <tr>\n",
       "      <th>6498</th>\n",
       "      <td>2020-10-03</td>\n",
       "      <td>AR</td>\n",
       "      <td>Argentina</td>\n",
       "      <td>AMRO</td>\n",
       "      <td>14001</td>\n",
       "      <td>765002</td>\n",
       "      <td>3351</td>\n",
       "      <td>20288</td>\n",
       "    </tr>\n",
       "    <tr>\n",
       "      <th>18921</th>\n",
       "      <td>2020-09-08</td>\n",
       "      <td>BO</td>\n",
       "      <td>Bolivia (Plurinational State of)</td>\n",
       "      <td>AMRO</td>\n",
       "      <td>528</td>\n",
       "      <td>120769</td>\n",
       "      <td>1610</td>\n",
       "      <td>7008</td>\n",
       "    </tr>\n",
       "    <tr>\n",
       "      <th>21923</th>\n",
       "      <td>2020-05-21</td>\n",
       "      <td>BR</td>\n",
       "      <td>Brazil</td>\n",
       "      <td>AMRO</td>\n",
       "      <td>17408</td>\n",
       "      <td>271628</td>\n",
       "      <td>1179</td>\n",
       "      <td>17971</td>\n",
       "    </tr>\n",
       "    <tr>\n",
       "      <th>21925</th>\n",
       "      <td>2020-05-23</td>\n",
       "      <td>BR</td>\n",
       "      <td>Brazil</td>\n",
       "      <td>AMRO</td>\n",
       "      <td>18508</td>\n",
       "      <td>310087</td>\n",
       "      <td>1188</td>\n",
       "      <td>20047</td>\n",
       "    </tr>\n",
       "    <tr>\n",
       "      <th>21926</th>\n",
       "      <td>2020-05-24</td>\n",
       "      <td>BR</td>\n",
       "      <td>Brazil</td>\n",
       "      <td>AMRO</td>\n",
       "      <td>20803</td>\n",
       "      <td>330890</td>\n",
       "      <td>1001</td>\n",
       "      <td>21048</td>\n",
       "    </tr>\n",
       "    <tr>\n",
       "      <th>...</th>\n",
       "      <td>...</td>\n",
       "      <td>...</td>\n",
       "      <td>...</td>\n",
       "      <td>...</td>\n",
       "      <td>...</td>\n",
       "      <td>...</td>\n",
       "      <td>...</td>\n",
       "      <td>...</td>\n",
       "    </tr>\n",
       "    <tr>\n",
       "      <th>176599</th>\n",
       "      <td>2022-02-12</td>\n",
       "      <td>US</td>\n",
       "      <td>United States of America</td>\n",
       "      <td>AMRO</td>\n",
       "      <td>163600</td>\n",
       "      <td>76813395</td>\n",
       "      <td>2367</td>\n",
       "      <td>908961</td>\n",
       "    </tr>\n",
       "    <tr>\n",
       "      <th>176600</th>\n",
       "      <td>2022-02-13</td>\n",
       "      <td>US</td>\n",
       "      <td>United States of America</td>\n",
       "      <td>AMRO</td>\n",
       "      <td>169957</td>\n",
       "      <td>76983352</td>\n",
       "      <td>2603</td>\n",
       "      <td>911564</td>\n",
       "    </tr>\n",
       "    <tr>\n",
       "      <th>176603</th>\n",
       "      <td>2022-02-16</td>\n",
       "      <td>US</td>\n",
       "      <td>United States of America</td>\n",
       "      <td>AMRO</td>\n",
       "      <td>243618</td>\n",
       "      <td>77301430</td>\n",
       "      <td>3114</td>\n",
       "      <td>915622</td>\n",
       "    </tr>\n",
       "    <tr>\n",
       "      <th>176604</th>\n",
       "      <td>2022-02-17</td>\n",
       "      <td>US</td>\n",
       "      <td>United States of America</td>\n",
       "      <td>AMRO</td>\n",
       "      <td>111750</td>\n",
       "      <td>77413180</td>\n",
       "      <td>2938</td>\n",
       "      <td>918560</td>\n",
       "    </tr>\n",
       "    <tr>\n",
       "      <th>176605</th>\n",
       "      <td>2022-02-18</td>\n",
       "      <td>US</td>\n",
       "      <td>United States of America</td>\n",
       "      <td>AMRO</td>\n",
       "      <td>108409</td>\n",
       "      <td>77521589</td>\n",
       "      <td>3424</td>\n",
       "      <td>921984</td>\n",
       "    </tr>\n",
       "  </tbody>\n",
       "</table>\n",
       "<p>946 rows × 8 columns</p>\n",
       "</div>"
      ],
      "text/plain": [
       "       Date_reported Country_code                           Country  \\\n",
       "6498      2020-10-03           AR                         Argentina   \n",
       "18921     2020-09-08           BO  Bolivia (Plurinational State of)   \n",
       "21923     2020-05-21           BR                            Brazil   \n",
       "21925     2020-05-23           BR                            Brazil   \n",
       "21926     2020-05-24           BR                            Brazil   \n",
       "...              ...          ...                               ...   \n",
       "176599    2022-02-12           US          United States of America   \n",
       "176600    2022-02-13           US          United States of America   \n",
       "176603    2022-02-16           US          United States of America   \n",
       "176604    2022-02-17           US          United States of America   \n",
       "176605    2022-02-18           US          United States of America   \n",
       "\n",
       "       WHO_region  New_cases  Cumulative_cases  New_deaths  Cumulative_deaths  \n",
       "6498         AMRO      14001            765002        3351              20288  \n",
       "18921        AMRO        528            120769        1610               7008  \n",
       "21923        AMRO      17408            271628        1179              17971  \n",
       "21925        AMRO      18508            310087        1188              20047  \n",
       "21926        AMRO      20803            330890        1001              21048  \n",
       "...           ...        ...               ...         ...                ...  \n",
       "176599       AMRO     163600          76813395        2367             908961  \n",
       "176600       AMRO     169957          76983352        2603             911564  \n",
       "176603       AMRO     243618          77301430        3114             915622  \n",
       "176604       AMRO     111750          77413180        2938             918560  \n",
       "176605       AMRO     108409          77521589        3424             921984  \n",
       "\n",
       "[946 rows x 8 columns]"
      ]
     },
     "execution_count": 27,
     "metadata": {},
     "output_type": "execute_result"
    }
   ],
   "source": [
    "DataF[DataF.New_deaths > 1000]"
   ]
  },
  {
   "cell_type": "code",
   "execution_count": 28,
   "id": "f8585108",
   "metadata": {},
   "outputs": [
    {
     "data": {
      "text/html": [
       "<div>\n",
       "<style scoped>\n",
       "    .dataframe tbody tr th:only-of-type {\n",
       "        vertical-align: middle;\n",
       "    }\n",
       "\n",
       "    .dataframe tbody tr th {\n",
       "        vertical-align: top;\n",
       "    }\n",
       "\n",
       "    .dataframe thead th {\n",
       "        text-align: right;\n",
       "    }\n",
       "</style>\n",
       "<table border=\"1\" class=\"dataframe\">\n",
       "  <thead>\n",
       "    <tr style=\"text-align: right;\">\n",
       "      <th></th>\n",
       "      <th>Date_reported</th>\n",
       "      <th>Country_code</th>\n",
       "      <th>Country</th>\n",
       "      <th>New_deaths</th>\n",
       "      <th>New_cases</th>\n",
       "    </tr>\n",
       "  </thead>\n",
       "  <tbody>\n",
       "    <tr>\n",
       "      <th>74854</th>\n",
       "      <td>2020-06-17</td>\n",
       "      <td>IN</td>\n",
       "      <td>India</td>\n",
       "      <td>2003</td>\n",
       "      <td>10974</td>\n",
       "    </tr>\n",
       "    <tr>\n",
       "      <th>74890</th>\n",
       "      <td>2020-07-23</td>\n",
       "      <td>IN</td>\n",
       "      <td>India</td>\n",
       "      <td>1129</td>\n",
       "      <td>45720</td>\n",
       "    </tr>\n",
       "    <tr>\n",
       "      <th>74908</th>\n",
       "      <td>2020-08-10</td>\n",
       "      <td>IN</td>\n",
       "      <td>India</td>\n",
       "      <td>1007</td>\n",
       "      <td>62064</td>\n",
       "    </tr>\n",
       "    <tr>\n",
       "      <th>74912</th>\n",
       "      <td>2020-08-14</td>\n",
       "      <td>IN</td>\n",
       "      <td>India</td>\n",
       "      <td>1007</td>\n",
       "      <td>64553</td>\n",
       "    </tr>\n",
       "    <tr>\n",
       "      <th>74917</th>\n",
       "      <td>2020-08-19</td>\n",
       "      <td>IN</td>\n",
       "      <td>India</td>\n",
       "      <td>1092</td>\n",
       "      <td>64531</td>\n",
       "    </tr>\n",
       "    <tr>\n",
       "      <th>...</th>\n",
       "      <td>...</td>\n",
       "      <td>...</td>\n",
       "      <td>...</td>\n",
       "      <td>...</td>\n",
       "      <td>...</td>\n",
       "    </tr>\n",
       "    <tr>\n",
       "      <th>75451</th>\n",
       "      <td>2022-02-04</td>\n",
       "      <td>IN</td>\n",
       "      <td>India</td>\n",
       "      <td>1072</td>\n",
       "      <td>149394</td>\n",
       "    </tr>\n",
       "    <tr>\n",
       "      <th>75452</th>\n",
       "      <td>2022-02-05</td>\n",
       "      <td>IN</td>\n",
       "      <td>India</td>\n",
       "      <td>1059</td>\n",
       "      <td>127952</td>\n",
       "    </tr>\n",
       "    <tr>\n",
       "      <th>75455</th>\n",
       "      <td>2022-02-08</td>\n",
       "      <td>IN</td>\n",
       "      <td>India</td>\n",
       "      <td>1188</td>\n",
       "      <td>67597</td>\n",
       "    </tr>\n",
       "    <tr>\n",
       "      <th>75456</th>\n",
       "      <td>2022-02-09</td>\n",
       "      <td>IN</td>\n",
       "      <td>India</td>\n",
       "      <td>1217</td>\n",
       "      <td>71365</td>\n",
       "    </tr>\n",
       "    <tr>\n",
       "      <th>75457</th>\n",
       "      <td>2022-02-10</td>\n",
       "      <td>IN</td>\n",
       "      <td>India</td>\n",
       "      <td>1241</td>\n",
       "      <td>67084</td>\n",
       "    </tr>\n",
       "  </tbody>\n",
       "</table>\n",
       "<p>129 rows × 5 columns</p>\n",
       "</div>"
      ],
      "text/plain": [
       "      Date_reported Country_code Country  New_deaths  New_cases\n",
       "74854    2020-06-17           IN   India        2003      10974\n",
       "74890    2020-07-23           IN   India        1129      45720\n",
       "74908    2020-08-10           IN   India        1007      62064\n",
       "74912    2020-08-14           IN   India        1007      64553\n",
       "74917    2020-08-19           IN   India        1092      64531\n",
       "...             ...          ...     ...         ...        ...\n",
       "75451    2022-02-04           IN   India        1072     149394\n",
       "75452    2022-02-05           IN   India        1059     127952\n",
       "75455    2022-02-08           IN   India        1188      67597\n",
       "75456    2022-02-09           IN   India        1217      71365\n",
       "75457    2022-02-10           IN   India        1241      67084\n",
       "\n",
       "[129 rows x 5 columns]"
      ]
     },
     "execution_count": 28,
     "metadata": {},
     "output_type": "execute_result"
    }
   ],
   "source": [
    "DataF.loc[(DataF.New_deaths > 1000) & (DataF.Country_code==\"IN\"),[\"Date_reported\",\"Country_code\",\"Country\",\"New_deaths\",\"New_cases\"]]"
   ]
  },
  {
   "cell_type": "code",
   "execution_count": 29,
   "id": "9128e8e5",
   "metadata": {},
   "outputs": [
    {
     "data": {
      "text/plain": [
       "New_cases    414188\n",
       "dtype: int64"
      ]
     },
     "execution_count": 29,
     "metadata": {},
     "output_type": "execute_result"
    }
   ],
   "source": [
    "DataF.loc[DataF.Country_code == \"IN\",[\"New_cases\"]].max()"
   ]
  },
  {
   "cell_type": "code",
   "execution_count": 30,
   "id": "4d31e836",
   "metadata": {},
   "outputs": [
    {
     "data": {
      "text/plain": [
       "New_deaths    6148\n",
       "dtype: int64"
      ]
     },
     "execution_count": 30,
     "metadata": {},
     "output_type": "execute_result"
    }
   ],
   "source": [
    "DataF.loc[DataF.Country_code == \"IN\",[\"New_deaths\"]].max()"
   ]
  },
  {
   "cell_type": "code",
   "execution_count": 31,
   "id": "5a5f25be",
   "metadata": {},
   "outputs": [
    {
     "data": {
      "text/plain": [
       "New_deaths    510905\n",
       "dtype: int64"
      ]
     },
     "execution_count": 31,
     "metadata": {},
     "output_type": "execute_result"
    }
   ],
   "source": [
    "DataF.loc[DataF.Country_code == \"IN\",[\"New_deaths\"]].sum()"
   ]
  },
  {
   "cell_type": "code",
   "execution_count": 32,
   "id": "0cabddf6",
   "metadata": {},
   "outputs": [],
   "source": [
    "DataS = Data.cursor()"
   ]
  },
  {
   "cell_type": "code",
   "execution_count": 33,
   "id": "f81e92c6",
   "metadata": {},
   "outputs": [],
   "source": [
    "DataS.execute(\"SELECT * FROM CV19CU;\")"
   ]
  },
  {
   "cell_type": "code",
   "execution_count": 34,
   "id": "1615b8d8",
   "metadata": {},
   "outputs": [],
   "source": [
    "OutputData = DataS.fetchall()"
   ]
  },
  {
   "cell_type": "code",
   "execution_count": 35,
   "id": "c4282da7",
   "metadata": {},
   "outputs": [
    {
     "name": "stdout",
     "output_type": "stream",
     "text": [
      "(1, 'AF', 'Afghanistan')\n",
      "(2, 'BH', 'Bhamas')\n",
      "(3, 'CV', 'Cabo Verde')\n",
      "(4, 'DK', 'North Korea')\n",
      "(5, 'IN', 'India')\n",
      "(6, 'SA', 'Saudi Arab')\n",
      "(7, 'SK', 'South Korea')\n",
      "(8, 'YM', 'Yemen')\n",
      "(9, 'CH', 'China')\n",
      "(10, 'PK', 'Pakistan')\n"
     ]
    }
   ],
   "source": [
    "for x in OutputData:\n",
    "    print(x)"
   ]
  },
  {
   "cell_type": "code",
   "execution_count": null,
   "id": "7cd8f222",
   "metadata": {},
   "outputs": [],
   "source": []
  }
 ],
 "metadata": {
  "kernelspec": {
   "display_name": "Python 3 (ipykernel)",
   "language": "python",
   "name": "python3"
  },
  "language_info": {
   "codemirror_mode": {
    "name": "ipython",
    "version": 3
   },
   "file_extension": ".py",
   "mimetype": "text/x-python",
   "name": "python",
   "nbconvert_exporter": "python",
   "pygments_lexer": "ipython3",
   "version": "3.9.7"
  }
 },
 "nbformat": 4,
 "nbformat_minor": 5
}
