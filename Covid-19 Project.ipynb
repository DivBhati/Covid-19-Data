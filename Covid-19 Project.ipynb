{
 "cells": [
  {
   "cell_type": "code",
   "execution_count": null,
   "id": "5d97513a",
   "metadata": {},
   "outputs": [],
   "source": [
    "# Data collected from \"https://covid19.who.int/WHO-COVID-19-global-data.csv\"\n",
    "# pip install matplot\n",
    "# pip install pandas\n",
    "# pip install numpy"
   ]
  },
  {
   "cell_type": "code",
   "execution_count": null,
   "id": "8dd18669",
   "metadata": {},
   "outputs": [],
   "source": [
    "import os\n",
    "import urllib\n",
    "import matplotlib.pyplot as Mat\n",
    "import pandas as pd\n",
    "import numpy as np"
   ]
  },
  {
   "cell_type": "code",
   "execution_count": null,
   "id": "15f1d629",
   "metadata": {},
   "outputs": [],
   "source": [
    "url = \"https://covid19.who.int/WHO-COVID-19-global-data.csv\"\n",
    "file_path = os.path.join(\"data\",\"covid\")"
   ]
  },
  {
   "cell_type": "code",
   "execution_count": null,
   "id": "6f8084c9",
   "metadata": {},
   "outputs": [],
   "source": [
    "os.makedirs(file_path, exist_ok=True)\n",
    "csv_path = os.path.join(file_path,\"WHO-COVID-19-Data.csv\")\n",
    "urllib.request.urlretrieve(url, csv_path)"
   ]
  },
  {
   "cell_type": "code",
   "execution_count": null,
   "id": "e47037a9",
   "metadata": {},
   "outputs": [],
   "source": [
    "DataF = pd.read_csv(csv_path)"
   ]
  },
  {
   "cell_type": "code",
   "execution_count": null,
   "id": "22c664bb",
   "metadata": {},
   "outputs": [],
   "source": [
    "DataF"
   ]
  },
  {
   "cell_type": "code",
   "execution_count": null,
   "id": "b37965d3",
   "metadata": {},
   "outputs": [],
   "source": [
    "DataF_index = DataF.index\n",
    "DataF_index"
   ]
  },
  {
   "cell_type": "code",
   "execution_count": null,
   "id": "e257261d",
   "metadata": {},
   "outputs": [],
   "source": [
    "DataF_columns = DataF.columns\n",
    "DataF_columns"
   ]
  },
  {
   "cell_type": "code",
   "execution_count": null,
   "id": "1179adf4",
   "metadata": {},
   "outputs": [],
   "source": [
    "DataF_index.values"
   ]
  },
  {
   "cell_type": "code",
   "execution_count": null,
   "id": "ff187971",
   "metadata": {},
   "outputs": [],
   "source": [
    "DataF.values"
   ]
  },
  {
   "cell_type": "code",
   "execution_count": null,
   "id": "295bfec2",
   "metadata": {},
   "outputs": [],
   "source": [
    "DataF.dtypes"
   ]
  },
  {
   "cell_type": "code",
   "execution_count": null,
   "id": "fe988f8c",
   "metadata": {},
   "outputs": [],
   "source": [
    "DataF.shape"
   ]
  },
  {
   "cell_type": "code",
   "execution_count": null,
   "id": "582c7fa7",
   "metadata": {},
   "outputs": [],
   "source": [
    "DataF.head()"
   ]
  },
  {
   "cell_type": "code",
   "execution_count": null,
   "id": "055431c1",
   "metadata": {},
   "outputs": [],
   "source": [
    "DataF.tail()"
   ]
  },
  {
   "cell_type": "code",
   "execution_count": null,
   "id": "6fd8e6bd",
   "metadata": {},
   "outputs": [],
   "source": [
    "DataF.info()"
   ]
  },
  {
   "cell_type": "code",
   "execution_count": null,
   "id": "7be17119",
   "metadata": {},
   "outputs": [],
   "source": [
    "DataF.describe()"
   ]
  },
  {
   "cell_type": "code",
   "execution_count": null,
   "id": "fbc3eaa0",
   "metadata": {},
   "outputs": [],
   "source": [
    "DataF[\"Country\"]"
   ]
  },
  {
   "cell_type": "code",
   "execution_count": null,
   "id": "c2a80343",
   "metadata": {},
   "outputs": [],
   "source": [
    "DataF[\"Country\"].unique()"
   ]
  },
  {
   "cell_type": "code",
   "execution_count": null,
   "id": "c5016b98",
   "metadata": {},
   "outputs": [],
   "source": [
    "DataF[\"Country_code\"].unique()"
   ]
  },
  {
   "cell_type": "code",
   "execution_count": null,
   "id": "251de88a",
   "metadata": {},
   "outputs": [],
   "source": [
    "DataF.columns = [col.strip() for col in DataF.columns]\n",
    "DataF.columns"
   ]
  },
  {
   "cell_type": "code",
   "execution_count": null,
   "id": "b1a8cd62",
   "metadata": {},
   "outputs": [],
   "source": [
    "DataF.Country"
   ]
  },
  {
   "cell_type": "code",
   "execution_count": null,
   "id": "cfbcfc82",
   "metadata": {},
   "outputs": [],
   "source": [
    " DataF.loc[1:4, \"Country\"]"
   ]
  },
  {
   "cell_type": "code",
   "execution_count": null,
   "id": "39e10190",
   "metadata": {},
   "outputs": [],
   "source": [
    "DataF.loc[1:8,[\"Country\", \"New_cases\"]]"
   ]
  },
  {
   "cell_type": "code",
   "execution_count": null,
   "id": "bc17ce88",
   "metadata": {},
   "outputs": [],
   "source": [
    "DataF.Country == \"India\""
   ]
  },
  {
   "cell_type": "code",
   "execution_count": null,
   "id": "3abaa1cd",
   "metadata": {},
   "outputs": [],
   "source": [
    "DataF[DataF.Country == \"India\"]"
   ]
  },
  {
   "cell_type": "code",
   "execution_count": null,
   "id": "6c6db377",
   "metadata": {},
   "outputs": [],
   "source": [
    "DataF[DataF.New_deaths > 1000]"
   ]
  },
  {
   "cell_type": "code",
   "execution_count": null,
   "id": "f8585108",
   "metadata": {},
   "outputs": [],
   "source": [
    "DataF.loc[(DataF.New_deaths > 1000) & (DataF.Country_code==\"IN\"),[\"Date_reported\",\"Country_code\",\"Country\",\"New_deaths\",\"New_cases\"]]"
   ]
  },
  {
   "cell_type": "code",
   "execution_count": null,
   "id": "9128e8e5",
   "metadata": {},
   "outputs": [],
   "source": [
    "DataF.loc[DataF.Country_code == \"IN\",[\"New_cases\"]].max()"
   ]
  },
  {
   "cell_type": "code",
   "execution_count": null,
   "id": "4d31e836",
   "metadata": {},
   "outputs": [],
   "source": [
    "DataF.loc[DataF.Country_code == \"IN\",[\"New_deaths\"]].max()"
   ]
  },
  {
   "cell_type": "code",
   "execution_count": null,
   "id": "5a5f25be",
   "metadata": {},
   "outputs": [],
   "source": [
    "DataF.loc[DataF.Country_code == \"IN\",[\"New_deaths\"]].sum()"
   ]
  },
  {
   "cell_type": "code",
   "execution_count": null,
   "id": "e3b90370",
   "metadata": {},
   "outputs": [],
   "source": [
    "DataC = pd.read_csv(\"c:\\\\Users\\\\yurik\\\\data\\\\covid\\\\WHO-COVID-19-Data.csv\")"
   ]
  },
  {
   "cell_type": "code",
   "execution_count": null,
   "id": "ed43b2f4",
   "metadata": {},
   "outputs": [],
   "source": [
    "DataC = pd.DataFrame(DataC)"
   ]
  },
  {
   "cell_type": "code",
   "execution_count": null,
   "id": "66bd923c",
   "metadata": {},
   "outputs": [],
   "source": [
    "# Ploting Data \n",
    "DataCountry = DataC[\"Country\"]\n",
    "DataNCases = DataC[\"New_cases\"]\n",
    "DataCCases = DataC[\"Cumulative_cases\"]\n",
    "DataNDeaths = DataC[\"New_deaths\"]\n",
    "DataCDeaths = DataC[\"Cumulative_deaths\"]"
   ]
  }
 ],
 "metadata": {
  "kernelspec": {
   "display_name": "Python 3",
   "language": "python",
   "name": "python3"
  },
  "language_info": {
   "codemirror_mode": {
    "name": "ipython",
    "version": 3
   },
   "file_extension": ".py",
   "mimetype": "text/x-python",
   "name": "python",
   "nbconvert_exporter": "python",
   "pygments_lexer": "ipython3",
   "version": "3.8.8"
  }
 },
 "nbformat": 4,
 "nbformat_minor": 5
}
